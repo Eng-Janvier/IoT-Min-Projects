{
 "cells": [
  {
   "cell_type": "markdown",
   "id": "25be5afe",
   "metadata": {},
   "source": [
    "# Reading arduino Serial Port with python"
   ]
  },
  {
   "cell_type": "code",
   "execution_count": 1,
   "id": "3f7b2898",
   "metadata": {},
   "outputs": [],
   "source": [
    "import time\n",
    "import serial"
   ]
  },
  {
   "cell_type": "code",
   "execution_count": 2,
   "id": "44e0ef6d",
   "metadata": {},
   "outputs": [
    {
     "name": "stdout",
     "output_type": "stream",
     "text": [
      "trying.... COM13\n"
     ]
    }
   ],
   "source": [
    "device ='COM13'\n",
    "try:\n",
    "    print(\"trying....\",device)\n",
    "    arduino = serial.Serial(device,9600)\n",
    "except:\n",
    "    print(\"Reading Failled\")"
   ]
  },
  {
   "cell_type": "code",
   "execution_count": 4,
   "id": "12e76766",
   "metadata": {},
   "outputs": [
    {
     "name": "stdout",
     "output_type": "stream",
     "text": [
      "b'235\\r\\n'\n"
     ]
    }
   ],
   "source": [
    "data=str(arduino.readline())\n",
    "print(data)"
   ]
  },
  {
   "cell_type": "code",
   "execution_count": 11,
   "id": "15731de0",
   "metadata": {},
   "outputs": [
    {
     "name": "stdout",
     "output_type": "stream",
     "text": [
      "235\n"
     ]
    }
   ],
   "source": [
    "new_data=data.split('\\\\')[0].split(\"'\")[1]\n",
    "print(new_data)"
   ]
  },
  {
   "cell_type": "code",
   "execution_count": 12,
   "id": "030f3e9e",
   "metadata": {},
   "outputs": [
    {
     "name": "stdout",
     "output_type": "stream",
     "text": [
      "235\n",
      "235\n",
      "235\n",
      "235\n",
      "235\n",
      "235\n",
      "235\n",
      "235\n",
      "235\n",
      "235\n",
      "235\n",
      "235\n",
      "235\n",
      "235\n",
      "235\n",
      "235\n",
      "236\n",
      "236\n",
      "236\n",
      "236\n",
      "235\n",
      "236\n",
      "235\n",
      "236\n",
      "235\n",
      "234\n",
      "234\n",
      "234\n",
      "235\n",
      "235\n",
      "234\n",
      "235\n",
      "234\n",
      "235\n",
      "235\n",
      "234\n",
      "234\n",
      "234\n",
      "234\n",
      "235\n",
      "235\n",
      "235\n",
      "235\n",
      "234\n",
      "234\n",
      "234\n",
      "234\n",
      "234\n",
      "235\n",
      "235\n",
      "235\n",
      "236\n",
      "236\n",
      "236\n",
      "236\n",
      "237\n",
      "237\n",
      "237\n",
      "237\n",
      "234\n",
      "234\n",
      "234\n",
      "232\n",
      "233\n",
      "233\n",
      "234\n",
      "235\n",
      "234\n",
      "233\n",
      "233\n",
      "234\n",
      "234\n",
      "232\n",
      "230\n",
      "229\n",
      "230\n",
      "231\n",
      "232\n",
      "234\n",
      "235\n",
      "236\n",
      "237\n",
      "238\n",
      "238\n",
      "239\n",
      "239\n",
      "239\n",
      "239\n",
      "239\n",
      "239\n",
      "239\n",
      "239\n",
      "239\n",
      "239\n",
      "239\n",
      "239\n",
      "239\n",
      "239\n",
      "238\n",
      "238\n",
      "238\n",
      "238\n",
      "238\n",
      "238\n",
      "238\n",
      "237\n",
      "238\n",
      "237\n",
      "237\n",
      "237\n",
      "237\n",
      "237\n",
      "237\n",
      "237\n",
      "237\n",
      "237\n",
      "237\n",
      "236\n",
      "236\n",
      "237\n",
      "236\n",
      "236\n",
      "236\n",
      "236\n",
      "236\n",
      "235\n",
      "236\n",
      "236\n",
      "235\n",
      "235\n",
      "235\n",
      "235\n",
      "235\n",
      "235\n",
      "235\n",
      "235\n",
      "235\n",
      "235\n",
      "235\n",
      "235\n",
      "235\n",
      "235\n",
      "235\n",
      "235\n",
      "\n"
     ]
    },
    {
     "ename": "SerialException",
     "evalue": "ClearCommError failed (PermissionError(13, 'The device does not recognize the command.', None, 22))",
     "output_type": "error",
     "traceback": [
      "\u001b[1;31m---------------------------------------------------------------------------\u001b[0m",
      "\u001b[1;31mSerialException\u001b[0m                           Traceback (most recent call last)",
      "\u001b[1;32m~\\AppData\\Local\\Temp/ipykernel_2936/82788282.py\u001b[0m in \u001b[0;36m<module>\u001b[1;34m\u001b[0m\n\u001b[0;32m      1\u001b[0m \u001b[1;32mwhile\u001b[0m \u001b[1;32mTrue\u001b[0m\u001b[1;33m:\u001b[0m\u001b[1;33m\u001b[0m\u001b[1;33m\u001b[0m\u001b[0m\n\u001b[1;32m----> 2\u001b[1;33m     \u001b[0mdata\u001b[0m\u001b[1;33m=\u001b[0m\u001b[0mstr\u001b[0m\u001b[1;33m(\u001b[0m\u001b[0marduino\u001b[0m\u001b[1;33m.\u001b[0m\u001b[0mreadline\u001b[0m\u001b[1;33m(\u001b[0m\u001b[1;33m)\u001b[0m\u001b[1;33m)\u001b[0m\u001b[1;33m\u001b[0m\u001b[1;33m\u001b[0m\u001b[0m\n\u001b[0m\u001b[0;32m      3\u001b[0m     \u001b[0mdata\u001b[0m\u001b[1;33m=\u001b[0m\u001b[0mdata\u001b[0m\u001b[1;33m.\u001b[0m\u001b[0msplit\u001b[0m\u001b[1;33m(\u001b[0m\u001b[1;34m'\\\\'\u001b[0m\u001b[1;33m)\u001b[0m\u001b[1;33m[\u001b[0m\u001b[1;36m0\u001b[0m\u001b[1;33m]\u001b[0m\u001b[1;33m.\u001b[0m\u001b[0msplit\u001b[0m\u001b[1;33m(\u001b[0m\u001b[1;34m\"'\"\u001b[0m\u001b[1;33m)\u001b[0m\u001b[1;33m[\u001b[0m\u001b[1;36m1\u001b[0m\u001b[1;33m]\u001b[0m\u001b[1;33m\u001b[0m\u001b[1;33m\u001b[0m\u001b[0m\n\u001b[0;32m      4\u001b[0m     \u001b[0mprint\u001b[0m\u001b[1;33m(\u001b[0m\u001b[0mdata\u001b[0m\u001b[1;33m)\u001b[0m\u001b[1;33m\u001b[0m\u001b[1;33m\u001b[0m\u001b[0m\n",
      "\u001b[1;32m~\\.conda\\envs\\AI-FELLOWSHIP\\lib\\site-packages\\serial\\serialwin32.py\u001b[0m in \u001b[0;36mread\u001b[1;34m(self, size)\u001b[0m\n\u001b[0;32m    273\u001b[0m             \u001b[0mcomstat\u001b[0m \u001b[1;33m=\u001b[0m \u001b[0mwin32\u001b[0m\u001b[1;33m.\u001b[0m\u001b[0mCOMSTAT\u001b[0m\u001b[1;33m(\u001b[0m\u001b[1;33m)\u001b[0m\u001b[1;33m\u001b[0m\u001b[1;33m\u001b[0m\u001b[0m\n\u001b[0;32m    274\u001b[0m             \u001b[1;32mif\u001b[0m \u001b[1;32mnot\u001b[0m \u001b[0mwin32\u001b[0m\u001b[1;33m.\u001b[0m\u001b[0mClearCommError\u001b[0m\u001b[1;33m(\u001b[0m\u001b[0mself\u001b[0m\u001b[1;33m.\u001b[0m\u001b[0m_port_handle\u001b[0m\u001b[1;33m,\u001b[0m \u001b[0mctypes\u001b[0m\u001b[1;33m.\u001b[0m\u001b[0mbyref\u001b[0m\u001b[1;33m(\u001b[0m\u001b[0mflags\u001b[0m\u001b[1;33m)\u001b[0m\u001b[1;33m,\u001b[0m \u001b[0mctypes\u001b[0m\u001b[1;33m.\u001b[0m\u001b[0mbyref\u001b[0m\u001b[1;33m(\u001b[0m\u001b[0mcomstat\u001b[0m\u001b[1;33m)\u001b[0m\u001b[1;33m)\u001b[0m\u001b[1;33m:\u001b[0m\u001b[1;33m\u001b[0m\u001b[1;33m\u001b[0m\u001b[0m\n\u001b[1;32m--> 275\u001b[1;33m                 \u001b[1;32mraise\u001b[0m \u001b[0mSerialException\u001b[0m\u001b[1;33m(\u001b[0m\u001b[1;34m\"ClearCommError failed ({!r})\"\u001b[0m\u001b[1;33m.\u001b[0m\u001b[0mformat\u001b[0m\u001b[1;33m(\u001b[0m\u001b[0mctypes\u001b[0m\u001b[1;33m.\u001b[0m\u001b[0mWinError\u001b[0m\u001b[1;33m(\u001b[0m\u001b[1;33m)\u001b[0m\u001b[1;33m)\u001b[0m\u001b[1;33m)\u001b[0m\u001b[1;33m\u001b[0m\u001b[1;33m\u001b[0m\u001b[0m\n\u001b[0m\u001b[0;32m    276\u001b[0m             \u001b[0mn\u001b[0m \u001b[1;33m=\u001b[0m \u001b[0mmin\u001b[0m\u001b[1;33m(\u001b[0m\u001b[0mcomstat\u001b[0m\u001b[1;33m.\u001b[0m\u001b[0mcbInQue\u001b[0m\u001b[1;33m,\u001b[0m \u001b[0msize\u001b[0m\u001b[1;33m)\u001b[0m \u001b[1;32mif\u001b[0m \u001b[0mself\u001b[0m\u001b[1;33m.\u001b[0m\u001b[0mtimeout\u001b[0m \u001b[1;33m==\u001b[0m \u001b[1;36m0\u001b[0m \u001b[1;32melse\u001b[0m \u001b[0msize\u001b[0m\u001b[1;33m\u001b[0m\u001b[1;33m\u001b[0m\u001b[0m\n\u001b[0;32m    277\u001b[0m             \u001b[1;32mif\u001b[0m \u001b[0mn\u001b[0m \u001b[1;33m>\u001b[0m \u001b[1;36m0\u001b[0m\u001b[1;33m:\u001b[0m\u001b[1;33m\u001b[0m\u001b[1;33m\u001b[0m\u001b[0m\n",
      "\u001b[1;31mSerialException\u001b[0m: ClearCommError failed (PermissionError(13, 'The device does not recognize the command.', None, 22))"
     ]
    }
   ],
   "source": [
    "while True:\n",
    "    data=str(arduino.readline())\n",
    "    data=data.split('\\\\')[0].split(\"'\")[1]\n",
    "    print(data)"
   ]
  },
  {
   "cell_type": "code",
   "execution_count": null,
   "id": "b29451ff",
   "metadata": {},
   "outputs": [],
   "source": []
  }
 ],
 "metadata": {
  "kernelspec": {
   "display_name": "Python 3 (ipykernel)",
   "language": "python",
   "name": "python3"
  },
  "language_info": {
   "codemirror_mode": {
    "name": "ipython",
    "version": 3
   },
   "file_extension": ".py",
   "mimetype": "text/x-python",
   "name": "python",
   "nbconvert_exporter": "python",
   "pygments_lexer": "ipython3",
   "version": "3.9.6"
  }
 },
 "nbformat": 4,
 "nbformat_minor": 5
}
